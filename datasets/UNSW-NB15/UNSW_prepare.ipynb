{
 "cells": [
  {
   "cell_type": "code",
   "execution_count": 1,
   "metadata": {},
   "outputs": [
    {
     "name": "stderr",
     "output_type": "stream",
     "text": [
      "C:\\Users\\Zethc\\anaconda3\\lib\\site-packages\\IPython\\core\\interactiveshell.py:3063: DtypeWarning: Columns (1,3,47) have mixed types.Specify dtype option on import or set low_memory=False.\n",
      "  interactivity=interactivity, compiler=compiler, result=result)\n"
     ]
    },
    {
     "name": "stdout",
     "output_type": "stream",
     "text": [
      "4.005788326263428\n"
     ]
    }
   ],
   "source": [
    "import pandas as pd\n",
    "import time as t\n",
    "\n",
    "a = t.time()\n",
    "unsw = pd.read_csv(\"UNSW-NB15_1.csv\", header=None)\n",
    "b = t.time()\n",
    "print(b-a)"
   ]
  },
  {
   "cell_type": "code",
   "execution_count": 2,
   "metadata": {},
   "outputs": [
    {
     "data": {
      "text/plain": [
       "700001"
      ]
     },
     "execution_count": 2,
     "metadata": {},
     "output_type": "execute_result"
    }
   ],
   "source": [
    "len(unsw)"
   ]
  },
  {
   "cell_type": "code",
   "execution_count": 2,
   "metadata": {},
   "outputs": [
    {
     "data": {
      "text/html": [
       "<div>\n",
       "<style scoped>\n",
       "    .dataframe tbody tr th:only-of-type {\n",
       "        vertical-align: middle;\n",
       "    }\n",
       "\n",
       "    .dataframe tbody tr th {\n",
       "        vertical-align: top;\n",
       "    }\n",
       "\n",
       "    .dataframe thead th {\n",
       "        text-align: right;\n",
       "    }\n",
       "</style>\n",
       "<table border=\"1\" class=\"dataframe\">\n",
       "  <thead>\n",
       "    <tr style=\"text-align: right;\">\n",
       "      <th></th>\n",
       "      <th>0</th>\n",
       "      <th>1</th>\n",
       "      <th>2</th>\n",
       "      <th>3</th>\n",
       "      <th>4</th>\n",
       "      <th>5</th>\n",
       "      <th>6</th>\n",
       "      <th>7</th>\n",
       "      <th>8</th>\n",
       "      <th>9</th>\n",
       "      <th>...</th>\n",
       "      <th>39</th>\n",
       "      <th>40</th>\n",
       "      <th>41</th>\n",
       "      <th>42</th>\n",
       "      <th>43</th>\n",
       "      <th>44</th>\n",
       "      <th>45</th>\n",
       "      <th>46</th>\n",
       "      <th>47</th>\n",
       "      <th>48</th>\n",
       "    </tr>\n",
       "  </thead>\n",
       "  <tbody>\n",
       "    <tr>\n",
       "      <th>0</th>\n",
       "      <td>59.166.0.0</td>\n",
       "      <td>1390</td>\n",
       "      <td>149.171.126.6</td>\n",
       "      <td>53</td>\n",
       "      <td>udp</td>\n",
       "      <td>CON</td>\n",
       "      <td>0.001055</td>\n",
       "      <td>132</td>\n",
       "      <td>164</td>\n",
       "      <td>31</td>\n",
       "      <td>...</td>\n",
       "      <td>0</td>\n",
       "      <td>3</td>\n",
       "      <td>7</td>\n",
       "      <td>1</td>\n",
       "      <td>3</td>\n",
       "      <td>1</td>\n",
       "      <td>1</td>\n",
       "      <td>1</td>\n",
       "      <td>NaN</td>\n",
       "      <td>0</td>\n",
       "    </tr>\n",
       "    <tr>\n",
       "      <th>1</th>\n",
       "      <td>59.166.0.0</td>\n",
       "      <td>33661</td>\n",
       "      <td>149.171.126.9</td>\n",
       "      <td>1024</td>\n",
       "      <td>udp</td>\n",
       "      <td>CON</td>\n",
       "      <td>0.036133</td>\n",
       "      <td>528</td>\n",
       "      <td>304</td>\n",
       "      <td>31</td>\n",
       "      <td>...</td>\n",
       "      <td>0</td>\n",
       "      <td>2</td>\n",
       "      <td>4</td>\n",
       "      <td>2</td>\n",
       "      <td>3</td>\n",
       "      <td>1</td>\n",
       "      <td>1</td>\n",
       "      <td>2</td>\n",
       "      <td>NaN</td>\n",
       "      <td>0</td>\n",
       "    </tr>\n",
       "    <tr>\n",
       "      <th>2</th>\n",
       "      <td>59.166.0.6</td>\n",
       "      <td>1464</td>\n",
       "      <td>149.171.126.7</td>\n",
       "      <td>53</td>\n",
       "      <td>udp</td>\n",
       "      <td>CON</td>\n",
       "      <td>0.001119</td>\n",
       "      <td>146</td>\n",
       "      <td>178</td>\n",
       "      <td>31</td>\n",
       "      <td>...</td>\n",
       "      <td>0</td>\n",
       "      <td>12</td>\n",
       "      <td>8</td>\n",
       "      <td>1</td>\n",
       "      <td>2</td>\n",
       "      <td>2</td>\n",
       "      <td>1</td>\n",
       "      <td>1</td>\n",
       "      <td>NaN</td>\n",
       "      <td>0</td>\n",
       "    </tr>\n",
       "    <tr>\n",
       "      <th>3</th>\n",
       "      <td>59.166.0.5</td>\n",
       "      <td>3593</td>\n",
       "      <td>149.171.126.5</td>\n",
       "      <td>53</td>\n",
       "      <td>udp</td>\n",
       "      <td>CON</td>\n",
       "      <td>0.001209</td>\n",
       "      <td>132</td>\n",
       "      <td>164</td>\n",
       "      <td>31</td>\n",
       "      <td>...</td>\n",
       "      <td>0</td>\n",
       "      <td>6</td>\n",
       "      <td>9</td>\n",
       "      <td>1</td>\n",
       "      <td>1</td>\n",
       "      <td>1</td>\n",
       "      <td>1</td>\n",
       "      <td>1</td>\n",
       "      <td>NaN</td>\n",
       "      <td>0</td>\n",
       "    </tr>\n",
       "    <tr>\n",
       "      <th>4</th>\n",
       "      <td>59.166.0.3</td>\n",
       "      <td>49664</td>\n",
       "      <td>149.171.126.0</td>\n",
       "      <td>53</td>\n",
       "      <td>udp</td>\n",
       "      <td>CON</td>\n",
       "      <td>0.001169</td>\n",
       "      <td>146</td>\n",
       "      <td>178</td>\n",
       "      <td>31</td>\n",
       "      <td>...</td>\n",
       "      <td>0</td>\n",
       "      <td>7</td>\n",
       "      <td>9</td>\n",
       "      <td>1</td>\n",
       "      <td>1</td>\n",
       "      <td>1</td>\n",
       "      <td>1</td>\n",
       "      <td>1</td>\n",
       "      <td>NaN</td>\n",
       "      <td>0</td>\n",
       "    </tr>\n",
       "  </tbody>\n",
       "</table>\n",
       "<p>5 rows × 49 columns</p>\n",
       "</div>"
      ],
      "text/plain": [
       "           0      1              2     3    4    5         6    7    8   9   \\\n",
       "0  59.166.0.0   1390  149.171.126.6    53  udp  CON  0.001055  132  164  31   \n",
       "1  59.166.0.0  33661  149.171.126.9  1024  udp  CON  0.036133  528  304  31   \n",
       "2  59.166.0.6   1464  149.171.126.7    53  udp  CON  0.001119  146  178  31   \n",
       "3  59.166.0.5   3593  149.171.126.5    53  udp  CON  0.001209  132  164  31   \n",
       "4  59.166.0.3  49664  149.171.126.0    53  udp  CON  0.001169  146  178  31   \n",
       "\n",
       "   ...  39  40  41 42  43  44  45  46   47  48  \n",
       "0  ...   0   3   7  1   3   1   1   1  NaN   0  \n",
       "1  ...   0   2   4  2   3   1   1   2  NaN   0  \n",
       "2  ...   0  12   8  1   2   2   1   1  NaN   0  \n",
       "3  ...   0   6   9  1   1   1   1   1  NaN   0  \n",
       "4  ...   0   7   9  1   1   1   1   1  NaN   0  \n",
       "\n",
       "[5 rows x 49 columns]"
      ]
     },
     "execution_count": 2,
     "metadata": {},
     "output_type": "execute_result"
    }
   ],
   "source": [
    "unsw.head()"
   ]
  },
  {
   "cell_type": "code",
   "execution_count": null,
   "metadata": {},
   "outputs": [],
   "source": [
    "unsw[unsw.iloc[:,47].notna()][0].unique()"
   ]
  },
  {
   "cell_type": "code",
   "execution_count": null,
   "metadata": {},
   "outputs": [],
   "source": [
    "srcip_list = [\"172.16.0.1\",\"172.17.0.1\",\"172.18.0.1\",\"172.19.0.1\",\"172.20.0.1\",\"172.21.0.1\",\"172.22.0.1\",\"172.23.0.1\",\n",
    "              \"172.24.0.1\",\"172.25.0.1\",\"172.26.0.1\",\"172.27.0.1\",\"172.28.0.1\",\"172.29.0.1\",\"172.30.0.1\",\"172.31.0.1\"]"
   ]
  },
  {
   "cell_type": "code",
   "execution_count": null,
   "metadata": {},
   "outputs": [],
   "source": [
    "import numpy as np\n",
    "unsw1 = unsw.copy()\n",
    "unsw1[0] = np.random.choice(srcip_list, unsw1.shape[0])\n",
    "unsw1[unsw1.iloc[:,47].notna()][0].unique()"
   ]
  },
  {
   "cell_type": "code",
   "execution_count": 4,
   "metadata": {},
   "outputs": [
    {
     "data": {
      "text/html": [
       "<div>\n",
       "<style scoped>\n",
       "    .dataframe tbody tr th:only-of-type {\n",
       "        vertical-align: middle;\n",
       "    }\n",
       "\n",
       "    .dataframe tbody tr th {\n",
       "        vertical-align: top;\n",
       "    }\n",
       "\n",
       "    .dataframe thead th {\n",
       "        text-align: right;\n",
       "    }\n",
       "</style>\n",
       "<table border=\"1\" class=\"dataframe\">\n",
       "  <thead>\n",
       "    <tr style=\"text-align: right;\">\n",
       "      <th></th>\n",
       "      <th>0</th>\n",
       "      <th>2</th>\n",
       "      <th>4</th>\n",
       "      <th>5</th>\n",
       "      <th>6</th>\n",
       "      <th>7</th>\n",
       "      <th>8</th>\n",
       "      <th>9</th>\n",
       "      <th>10</th>\n",
       "      <th>11</th>\n",
       "      <th>...</th>\n",
       "      <th>39</th>\n",
       "      <th>40</th>\n",
       "      <th>41</th>\n",
       "      <th>42</th>\n",
       "      <th>43</th>\n",
       "      <th>44</th>\n",
       "      <th>45</th>\n",
       "      <th>46</th>\n",
       "      <th>47</th>\n",
       "      <th>48</th>\n",
       "    </tr>\n",
       "  </thead>\n",
       "  <tbody>\n",
       "    <tr>\n",
       "      <th>0</th>\n",
       "      <td>59.166.0.0:1390</td>\n",
       "      <td>149.171.126.6:53</td>\n",
       "      <td>udp</td>\n",
       "      <td>CON</td>\n",
       "      <td>0.001055</td>\n",
       "      <td>132</td>\n",
       "      <td>164</td>\n",
       "      <td>31</td>\n",
       "      <td>29</td>\n",
       "      <td>0</td>\n",
       "      <td>...</td>\n",
       "      <td>0</td>\n",
       "      <td>3</td>\n",
       "      <td>7</td>\n",
       "      <td>1</td>\n",
       "      <td>3</td>\n",
       "      <td>1</td>\n",
       "      <td>1</td>\n",
       "      <td>1</td>\n",
       "      <td>NaN</td>\n",
       "      <td>0</td>\n",
       "    </tr>\n",
       "    <tr>\n",
       "      <th>1</th>\n",
       "      <td>59.166.0.0:33661</td>\n",
       "      <td>149.171.126.9:1024</td>\n",
       "      <td>udp</td>\n",
       "      <td>CON</td>\n",
       "      <td>0.036133</td>\n",
       "      <td>528</td>\n",
       "      <td>304</td>\n",
       "      <td>31</td>\n",
       "      <td>29</td>\n",
       "      <td>0</td>\n",
       "      <td>...</td>\n",
       "      <td>0</td>\n",
       "      <td>2</td>\n",
       "      <td>4</td>\n",
       "      <td>2</td>\n",
       "      <td>3</td>\n",
       "      <td>1</td>\n",
       "      <td>1</td>\n",
       "      <td>2</td>\n",
       "      <td>NaN</td>\n",
       "      <td>0</td>\n",
       "    </tr>\n",
       "    <tr>\n",
       "      <th>2</th>\n",
       "      <td>59.166.0.6:1464</td>\n",
       "      <td>149.171.126.7:53</td>\n",
       "      <td>udp</td>\n",
       "      <td>CON</td>\n",
       "      <td>0.001119</td>\n",
       "      <td>146</td>\n",
       "      <td>178</td>\n",
       "      <td>31</td>\n",
       "      <td>29</td>\n",
       "      <td>0</td>\n",
       "      <td>...</td>\n",
       "      <td>0</td>\n",
       "      <td>12</td>\n",
       "      <td>8</td>\n",
       "      <td>1</td>\n",
       "      <td>2</td>\n",
       "      <td>2</td>\n",
       "      <td>1</td>\n",
       "      <td>1</td>\n",
       "      <td>NaN</td>\n",
       "      <td>0</td>\n",
       "    </tr>\n",
       "    <tr>\n",
       "      <th>3</th>\n",
       "      <td>59.166.0.5:3593</td>\n",
       "      <td>149.171.126.5:53</td>\n",
       "      <td>udp</td>\n",
       "      <td>CON</td>\n",
       "      <td>0.001209</td>\n",
       "      <td>132</td>\n",
       "      <td>164</td>\n",
       "      <td>31</td>\n",
       "      <td>29</td>\n",
       "      <td>0</td>\n",
       "      <td>...</td>\n",
       "      <td>0</td>\n",
       "      <td>6</td>\n",
       "      <td>9</td>\n",
       "      <td>1</td>\n",
       "      <td>1</td>\n",
       "      <td>1</td>\n",
       "      <td>1</td>\n",
       "      <td>1</td>\n",
       "      <td>NaN</td>\n",
       "      <td>0</td>\n",
       "    </tr>\n",
       "    <tr>\n",
       "      <th>4</th>\n",
       "      <td>59.166.0.3:49664</td>\n",
       "      <td>149.171.126.0:53</td>\n",
       "      <td>udp</td>\n",
       "      <td>CON</td>\n",
       "      <td>0.001169</td>\n",
       "      <td>146</td>\n",
       "      <td>178</td>\n",
       "      <td>31</td>\n",
       "      <td>29</td>\n",
       "      <td>0</td>\n",
       "      <td>...</td>\n",
       "      <td>0</td>\n",
       "      <td>7</td>\n",
       "      <td>9</td>\n",
       "      <td>1</td>\n",
       "      <td>1</td>\n",
       "      <td>1</td>\n",
       "      <td>1</td>\n",
       "      <td>1</td>\n",
       "      <td>NaN</td>\n",
       "      <td>0</td>\n",
       "    </tr>\n",
       "  </tbody>\n",
       "</table>\n",
       "<p>5 rows × 47 columns</p>\n",
       "</div>"
      ],
      "text/plain": [
       "                 0                   2    4    5         6    7    8   9   10  \\\n",
       "0   59.166.0.0:1390    149.171.126.6:53  udp  CON  0.001055  132  164  31  29   \n",
       "1  59.166.0.0:33661  149.171.126.9:1024  udp  CON  0.036133  528  304  31  29   \n",
       "2   59.166.0.6:1464    149.171.126.7:53  udp  CON  0.001119  146  178  31  29   \n",
       "3   59.166.0.5:3593    149.171.126.5:53  udp  CON  0.001209  132  164  31  29   \n",
       "4  59.166.0.3:49664    149.171.126.0:53  udp  CON  0.001169  146  178  31  29   \n",
       "\n",
       "   11  ...  39  40  41  42  43  44  45  46   47  48  \n",
       "0   0  ...   0   3   7   1   3   1   1   1  NaN   0  \n",
       "1   0  ...   0   2   4   2   3   1   1   2  NaN   0  \n",
       "2   0  ...   0  12   8   1   2   2   1   1  NaN   0  \n",
       "3   0  ...   0   6   9   1   1   1   1   1  NaN   0  \n",
       "4   0  ...   0   7   9   1   1   1   1   1  NaN   0  \n",
       "\n",
       "[5 rows x 47 columns]"
      ]
     },
     "execution_count": 4,
     "metadata": {},
     "output_type": "execute_result"
    }
   ],
   "source": [
    "unsw2 = unsw.copy()\n",
    "unsw2[0] = unsw2[0].astype(str)+\":\"+unsw2[1].astype(str)\n",
    "unsw2[2] = unsw2[2].astype(str)+\":\"+unsw2[3].astype(str)\n",
    "unsw2.drop(columns=[1,3], inplace=True)\n",
    "unsw2.head()"
   ]
  },
  {
   "cell_type": "code",
   "execution_count": 5,
   "metadata": {},
   "outputs": [
    {
     "data": {
      "text/plain": [
       "403155"
      ]
     },
     "execution_count": 5,
     "metadata": {},
     "output_type": "execute_result"
    }
   ],
   "source": [
    "len(unsw2[0].unique())"
   ]
  },
  {
   "cell_type": "code",
   "execution_count": 6,
   "metadata": {},
   "outputs": [
    {
     "data": {
      "text/plain": [
       "188076"
      ]
     },
     "execution_count": 6,
     "metadata": {},
     "output_type": "execute_result"
    }
   ],
   "source": [
    "len(unsw2[2].unique())"
   ]
  },
  {
   "cell_type": "code",
   "execution_count": null,
   "metadata": {},
   "outputs": [],
   "source": [
    "from sklearn import preprocessing\n",
    "le1 = preprocessing.LabelEncoder()\n",
    "le1.fit(unsw2[4])\n",
    "unsw2[4] = le1.transform(unsw2[4])\n",
    "le2 = preprocessing.LabelEncoder()\n",
    "le2.fit(unsw2[5])\n",
    "unsw2[5] = le2.transform(unsw2[5])\n",
    "le3 = preprocessing.LabelEncoder()\n",
    "le3.fit(unsw2[13])\n",
    "unsw2[13] = le3.transform(unsw2[13])\n",
    "unsw2.head()"
   ]
  },
  {
   "cell_type": "code",
   "execution_count": null,
   "metadata": {},
   "outputs": [],
   "source": [
    "unsw2[47] = unsw2[47].fillna(\"Normal\")\n",
    "unsw2.head()"
   ]
  },
  {
   "cell_type": "markdown",
   "metadata": {},
   "source": [
    "## UNSW.pkl"
   ]
  },
  {
   "cell_type": "code",
   "execution_count": null,
   "metadata": {},
   "outputs": [],
   "source": [
    "unsw2.to_pickle(\"unsw.pkl\")\n",
    "unsw_ = pd.read_pickle(\"unsw.pkl\")"
   ]
  },
  {
   "cell_type": "code",
   "execution_count": null,
   "metadata": {},
   "outputs": [],
   "source": [
    "unsw_.describe()"
   ]
  },
  {
   "cell_type": "markdown",
   "metadata": {},
   "source": [
    "## edge_feat.npy"
   ]
  },
  {
   "cell_type": "code",
   "execution_count": null,
   "metadata": {},
   "outputs": [],
   "source": [
    "edge_feat = unsw_.iloc[:,2:45].to_numpy()\n",
    "edge_feat"
   ]
  },
  {
   "cell_type": "code",
   "execution_count": null,
   "metadata": {},
   "outputs": [],
   "source": [
    "np.save(\"edge_feat.npy\",edge_feat)"
   ]
  },
  {
   "cell_type": "code",
   "execution_count": null,
   "metadata": {},
   "outputs": [],
   "source": [
    "edge_feat.shape"
   ]
  },
  {
   "cell_type": "markdown",
   "metadata": {},
   "source": [
    "## nodes.npy"
   ]
  },
  {
   "cell_type": "code",
   "execution_count": null,
   "metadata": {},
   "outputs": [],
   "source": [
    "srcnode = set(unsw_[0])\n",
    "dtnode = set(unsw_[2])\n",
    "nodes = list(dtnode.union(srcnode))\n",
    "nodes"
   ]
  },
  {
   "cell_type": "code",
   "execution_count": null,
   "metadata": {},
   "outputs": [],
   "source": [
    "np.save(\"nodes.npy\", nodes)"
   ]
  },
  {
   "cell_type": "code",
   "execution_count": null,
   "metadata": {},
   "outputs": [],
   "source": [
    "nodes = np.load(\"nodes.npy\")\n",
    "num_nodes = len(nodes)"
   ]
  },
  {
   "cell_type": "code",
   "execution_count": null,
   "metadata": {},
   "outputs": [],
   "source": [
    "num_nodes"
   ]
  },
  {
   "cell_type": "code",
   "execution_count": null,
   "metadata": {},
   "outputs": [],
   "source": [
    "len(unsw_)"
   ]
  },
  {
   "cell_type": "markdown",
   "metadata": {},
   "source": [
    "## label_bi.npy"
   ]
  },
  {
   "cell_type": "code",
   "execution_count": null,
   "metadata": {},
   "outputs": [],
   "source": [
    "binary = unsw_[48].to_numpy()\n",
    "np.save(\"label_bi.npy\", binary)"
   ]
  },
  {
   "cell_type": "code",
   "execution_count": null,
   "metadata": {},
   "outputs": [],
   "source": [
    "b = np.load(\"label_bi.npy\")\n",
    "np.unique(b)"
   ]
  },
  {
   "cell_type": "markdown",
   "metadata": {},
   "source": [
    "## adj.npy"
   ]
  },
  {
   "cell_type": "code",
   "execution_count": null,
   "metadata": {},
   "outputs": [],
   "source": [
    "adj = unsw_[[0,2]].to_numpy()\n",
    "np.save(\"adj.npy\", adj)"
   ]
  },
  {
   "cell_type": "code",
   "execution_count": null,
   "metadata": {},
   "outputs": [],
   "source": [
    "c = np.load(\"adj.npy\", allow_pickle=True)\n",
    "c"
   ]
  },
  {
   "cell_type": "markdown",
   "metadata": {},
   "source": [
    "## label_mul.npy"
   ]
  },
  {
   "cell_type": "code",
   "execution_count": null,
   "metadata": {},
   "outputs": [],
   "source": [
    "unsw2[47].unique()"
   ]
  },
  {
   "cell_type": "code",
   "execution_count": null,
   "metadata": {},
   "outputs": [],
   "source": [
    "multi = unsw2[47].replace({'Normal':0, 'Exploits':1, 'Reconnaissance':2, 'DoS':3, 'Generic':4,\n",
    "                           'Shellcode':5, ' Fuzzers':6, 'Worms':7, 'Backdoors':8, 'Analysis':9})\n",
    "multi.unique()"
   ]
  },
  {
   "cell_type": "code",
   "execution_count": null,
   "metadata": {},
   "outputs": [],
   "source": [
    "multi = multi.astype(np.int16)\n",
    "multi.unique()"
   ]
  },
  {
   "cell_type": "code",
   "execution_count": null,
   "metadata": {},
   "outputs": [],
   "source": [
    "np.save(\"label_mul.npy\", multi)"
   ]
  },
  {
   "cell_type": "code",
   "execution_count": null,
   "metadata": {},
   "outputs": [],
   "source": [
    "this = np.array([[1,2],\n",
    "   [2,3]])\n",
    "this[0]"
   ]
  },
  {
   "cell_type": "markdown",
   "metadata": {},
   "source": [
    "## Scale"
   ]
  },
  {
   "cell_type": "code",
   "execution_count": 1,
   "metadata": {},
   "outputs": [
    {
     "data": {
      "text/html": [
       "<div>\n",
       "<style scoped>\n",
       "    .dataframe tbody tr th:only-of-type {\n",
       "        vertical-align: middle;\n",
       "    }\n",
       "\n",
       "    .dataframe tbody tr th {\n",
       "        vertical-align: top;\n",
       "    }\n",
       "\n",
       "    .dataframe thead th {\n",
       "        text-align: right;\n",
       "    }\n",
       "</style>\n",
       "<table border=\"1\" class=\"dataframe\">\n",
       "  <thead>\n",
       "    <tr style=\"text-align: right;\">\n",
       "      <th></th>\n",
       "      <th>0</th>\n",
       "      <th>2</th>\n",
       "      <th>4</th>\n",
       "      <th>5</th>\n",
       "      <th>6</th>\n",
       "      <th>7</th>\n",
       "      <th>8</th>\n",
       "      <th>9</th>\n",
       "      <th>10</th>\n",
       "      <th>11</th>\n",
       "      <th>...</th>\n",
       "      <th>39</th>\n",
       "      <th>40</th>\n",
       "      <th>41</th>\n",
       "      <th>42</th>\n",
       "      <th>43</th>\n",
       "      <th>44</th>\n",
       "      <th>45</th>\n",
       "      <th>46</th>\n",
       "      <th>47</th>\n",
       "      <th>48</th>\n",
       "    </tr>\n",
       "  </thead>\n",
       "  <tbody>\n",
       "    <tr>\n",
       "      <th>0</th>\n",
       "      <td>172.20.0.1:1390</td>\n",
       "      <td>149.171.126.6:53</td>\n",
       "      <td>120</td>\n",
       "      <td>2</td>\n",
       "      <td>0.001055</td>\n",
       "      <td>132</td>\n",
       "      <td>164</td>\n",
       "      <td>31</td>\n",
       "      <td>29</td>\n",
       "      <td>0</td>\n",
       "      <td>...</td>\n",
       "      <td>0</td>\n",
       "      <td>3</td>\n",
       "      <td>7</td>\n",
       "      <td>1</td>\n",
       "      <td>3</td>\n",
       "      <td>1</td>\n",
       "      <td>1</td>\n",
       "      <td>1</td>\n",
       "      <td>Normal</td>\n",
       "      <td>0</td>\n",
       "    </tr>\n",
       "    <tr>\n",
       "      <th>1</th>\n",
       "      <td>172.21.0.1:33661</td>\n",
       "      <td>149.171.126.9:1024</td>\n",
       "      <td>120</td>\n",
       "      <td>2</td>\n",
       "      <td>0.036133</td>\n",
       "      <td>528</td>\n",
       "      <td>304</td>\n",
       "      <td>31</td>\n",
       "      <td>29</td>\n",
       "      <td>0</td>\n",
       "      <td>...</td>\n",
       "      <td>0</td>\n",
       "      <td>2</td>\n",
       "      <td>4</td>\n",
       "      <td>2</td>\n",
       "      <td>3</td>\n",
       "      <td>1</td>\n",
       "      <td>1</td>\n",
       "      <td>2</td>\n",
       "      <td>Normal</td>\n",
       "      <td>0</td>\n",
       "    </tr>\n",
       "    <tr>\n",
       "      <th>2</th>\n",
       "      <td>172.26.0.1:1464</td>\n",
       "      <td>149.171.126.7:53</td>\n",
       "      <td>120</td>\n",
       "      <td>2</td>\n",
       "      <td>0.001119</td>\n",
       "      <td>146</td>\n",
       "      <td>178</td>\n",
       "      <td>31</td>\n",
       "      <td>29</td>\n",
       "      <td>0</td>\n",
       "      <td>...</td>\n",
       "      <td>0</td>\n",
       "      <td>12</td>\n",
       "      <td>8</td>\n",
       "      <td>1</td>\n",
       "      <td>2</td>\n",
       "      <td>2</td>\n",
       "      <td>1</td>\n",
       "      <td>1</td>\n",
       "      <td>Normal</td>\n",
       "      <td>0</td>\n",
       "    </tr>\n",
       "    <tr>\n",
       "      <th>3</th>\n",
       "      <td>172.27.0.1:3593</td>\n",
       "      <td>149.171.126.5:53</td>\n",
       "      <td>120</td>\n",
       "      <td>2</td>\n",
       "      <td>0.001209</td>\n",
       "      <td>132</td>\n",
       "      <td>164</td>\n",
       "      <td>31</td>\n",
       "      <td>29</td>\n",
       "      <td>0</td>\n",
       "      <td>...</td>\n",
       "      <td>0</td>\n",
       "      <td>6</td>\n",
       "      <td>9</td>\n",
       "      <td>1</td>\n",
       "      <td>1</td>\n",
       "      <td>1</td>\n",
       "      <td>1</td>\n",
       "      <td>1</td>\n",
       "      <td>Normal</td>\n",
       "      <td>0</td>\n",
       "    </tr>\n",
       "    <tr>\n",
       "      <th>4</th>\n",
       "      <td>172.29.0.1:49664</td>\n",
       "      <td>149.171.126.0:53</td>\n",
       "      <td>120</td>\n",
       "      <td>2</td>\n",
       "      <td>0.001169</td>\n",
       "      <td>146</td>\n",
       "      <td>178</td>\n",
       "      <td>31</td>\n",
       "      <td>29</td>\n",
       "      <td>0</td>\n",
       "      <td>...</td>\n",
       "      <td>0</td>\n",
       "      <td>7</td>\n",
       "      <td>9</td>\n",
       "      <td>1</td>\n",
       "      <td>1</td>\n",
       "      <td>1</td>\n",
       "      <td>1</td>\n",
       "      <td>1</td>\n",
       "      <td>Normal</td>\n",
       "      <td>0</td>\n",
       "    </tr>\n",
       "  </tbody>\n",
       "</table>\n",
       "<p>5 rows × 47 columns</p>\n",
       "</div>"
      ],
      "text/plain": [
       "                 0                   2    4   5         6    7    8   9   10  \\\n",
       "0   172.20.0.1:1390    149.171.126.6:53  120   2  0.001055  132  164  31  29   \n",
       "1  172.21.0.1:33661  149.171.126.9:1024  120   2  0.036133  528  304  31  29   \n",
       "2   172.26.0.1:1464    149.171.126.7:53  120   2  0.001119  146  178  31  29   \n",
       "3   172.27.0.1:3593    149.171.126.5:53  120   2  0.001209  132  164  31  29   \n",
       "4  172.29.0.1:49664    149.171.126.0:53  120   2  0.001169  146  178  31  29   \n",
       "\n",
       "   11  ...  39  40  41  42  43  44  45  46      47  48  \n",
       "0   0  ...   0   3   7   1   3   1   1   1  Normal   0  \n",
       "1   0  ...   0   2   4   2   3   1   1   2  Normal   0  \n",
       "2   0  ...   0  12   8   1   2   2   1   1  Normal   0  \n",
       "3   0  ...   0   6   9   1   1   1   1   1  Normal   0  \n",
       "4   0  ...   0   7   9   1   1   1   1   1  Normal   0  \n",
       "\n",
       "[5 rows x 47 columns]"
      ]
     },
     "execution_count": 1,
     "metadata": {},
     "output_type": "execute_result"
    }
   ],
   "source": [
    "import pandas as pd\n",
    "unsw_ = pd.read_pickle(\"unsw.pkl\")\n",
    "unsw_.head()"
   ]
  },
  {
   "cell_type": "code",
   "execution_count": 2,
   "metadata": {},
   "outputs": [
    {
     "data": {
      "text/html": [
       "<div>\n",
       "<style scoped>\n",
       "    .dataframe tbody tr th:only-of-type {\n",
       "        vertical-align: middle;\n",
       "    }\n",
       "\n",
       "    .dataframe tbody tr th {\n",
       "        vertical-align: top;\n",
       "    }\n",
       "\n",
       "    .dataframe thead th {\n",
       "        text-align: right;\n",
       "    }\n",
       "</style>\n",
       "<table border=\"1\" class=\"dataframe\">\n",
       "  <thead>\n",
       "    <tr style=\"text-align: right;\">\n",
       "      <th></th>\n",
       "      <th>4</th>\n",
       "      <th>5</th>\n",
       "      <th>6</th>\n",
       "      <th>7</th>\n",
       "      <th>8</th>\n",
       "      <th>9</th>\n",
       "      <th>10</th>\n",
       "      <th>11</th>\n",
       "      <th>12</th>\n",
       "      <th>13</th>\n",
       "      <th>...</th>\n",
       "      <th>37</th>\n",
       "      <th>38</th>\n",
       "      <th>39</th>\n",
       "      <th>40</th>\n",
       "      <th>41</th>\n",
       "      <th>42</th>\n",
       "      <th>43</th>\n",
       "      <th>44</th>\n",
       "      <th>45</th>\n",
       "      <th>46</th>\n",
       "    </tr>\n",
       "  </thead>\n",
       "  <tbody>\n",
       "    <tr>\n",
       "      <th>0</th>\n",
       "      <td>120</td>\n",
       "      <td>2</td>\n",
       "      <td>0.001055</td>\n",
       "      <td>132</td>\n",
       "      <td>164</td>\n",
       "      <td>31</td>\n",
       "      <td>29</td>\n",
       "      <td>0</td>\n",
       "      <td>0</td>\n",
       "      <td>2</td>\n",
       "      <td>...</td>\n",
       "      <td>0</td>\n",
       "      <td>0</td>\n",
       "      <td>0</td>\n",
       "      <td>3</td>\n",
       "      <td>7</td>\n",
       "      <td>1</td>\n",
       "      <td>3</td>\n",
       "      <td>1</td>\n",
       "      <td>1</td>\n",
       "      <td>1</td>\n",
       "    </tr>\n",
       "    <tr>\n",
       "      <th>1</th>\n",
       "      <td>120</td>\n",
       "      <td>2</td>\n",
       "      <td>0.036133</td>\n",
       "      <td>528</td>\n",
       "      <td>304</td>\n",
       "      <td>31</td>\n",
       "      <td>29</td>\n",
       "      <td>0</td>\n",
       "      <td>0</td>\n",
       "      <td>0</td>\n",
       "      <td>...</td>\n",
       "      <td>0</td>\n",
       "      <td>0</td>\n",
       "      <td>0</td>\n",
       "      <td>2</td>\n",
       "      <td>4</td>\n",
       "      <td>2</td>\n",
       "      <td>3</td>\n",
       "      <td>1</td>\n",
       "      <td>1</td>\n",
       "      <td>2</td>\n",
       "    </tr>\n",
       "    <tr>\n",
       "      <th>2</th>\n",
       "      <td>120</td>\n",
       "      <td>2</td>\n",
       "      <td>0.001119</td>\n",
       "      <td>146</td>\n",
       "      <td>178</td>\n",
       "      <td>31</td>\n",
       "      <td>29</td>\n",
       "      <td>0</td>\n",
       "      <td>0</td>\n",
       "      <td>2</td>\n",
       "      <td>...</td>\n",
       "      <td>0</td>\n",
       "      <td>0</td>\n",
       "      <td>0</td>\n",
       "      <td>12</td>\n",
       "      <td>8</td>\n",
       "      <td>1</td>\n",
       "      <td>2</td>\n",
       "      <td>2</td>\n",
       "      <td>1</td>\n",
       "      <td>1</td>\n",
       "    </tr>\n",
       "    <tr>\n",
       "      <th>3</th>\n",
       "      <td>120</td>\n",
       "      <td>2</td>\n",
       "      <td>0.001209</td>\n",
       "      <td>132</td>\n",
       "      <td>164</td>\n",
       "      <td>31</td>\n",
       "      <td>29</td>\n",
       "      <td>0</td>\n",
       "      <td>0</td>\n",
       "      <td>2</td>\n",
       "      <td>...</td>\n",
       "      <td>0</td>\n",
       "      <td>0</td>\n",
       "      <td>0</td>\n",
       "      <td>6</td>\n",
       "      <td>9</td>\n",
       "      <td>1</td>\n",
       "      <td>1</td>\n",
       "      <td>1</td>\n",
       "      <td>1</td>\n",
       "      <td>1</td>\n",
       "    </tr>\n",
       "    <tr>\n",
       "      <th>4</th>\n",
       "      <td>120</td>\n",
       "      <td>2</td>\n",
       "      <td>0.001169</td>\n",
       "      <td>146</td>\n",
       "      <td>178</td>\n",
       "      <td>31</td>\n",
       "      <td>29</td>\n",
       "      <td>0</td>\n",
       "      <td>0</td>\n",
       "      <td>2</td>\n",
       "      <td>...</td>\n",
       "      <td>0</td>\n",
       "      <td>0</td>\n",
       "      <td>0</td>\n",
       "      <td>7</td>\n",
       "      <td>9</td>\n",
       "      <td>1</td>\n",
       "      <td>1</td>\n",
       "      <td>1</td>\n",
       "      <td>1</td>\n",
       "      <td>1</td>\n",
       "    </tr>\n",
       "  </tbody>\n",
       "</table>\n",
       "<p>5 rows × 43 columns</p>\n",
       "</div>"
      ],
      "text/plain": [
       "    4   5         6    7    8   9   10  11  12  13  ...  37  38  39  40  41  \\\n",
       "0  120   2  0.001055  132  164  31  29   0   0   2  ...   0   0   0   3   7   \n",
       "1  120   2  0.036133  528  304  31  29   0   0   0  ...   0   0   0   2   4   \n",
       "2  120   2  0.001119  146  178  31  29   0   0   2  ...   0   0   0  12   8   \n",
       "3  120   2  0.001209  132  164  31  29   0   0   2  ...   0   0   0   6   9   \n",
       "4  120   2  0.001169  146  178  31  29   0   0   2  ...   0   0   0   7   9   \n",
       "\n",
       "   42  43  44  45  46  \n",
       "0   1   3   1   1   1  \n",
       "1   2   3   1   1   2  \n",
       "2   1   2   2   1   1  \n",
       "3   1   1   1   1   1  \n",
       "4   1   1   1   1   1  \n",
       "\n",
       "[5 rows x 43 columns]"
      ]
     },
     "execution_count": 2,
     "metadata": {},
     "output_type": "execute_result"
    }
   ],
   "source": [
    "unsw_.iloc[:,2:-2].head()"
   ]
  },
  {
   "cell_type": "code",
   "execution_count": 3,
   "metadata": {},
   "outputs": [
    {
     "data": {
      "text/html": [
       "<div>\n",
       "<style scoped>\n",
       "    .dataframe tbody tr th:only-of-type {\n",
       "        vertical-align: middle;\n",
       "    }\n",
       "\n",
       "    .dataframe tbody tr th {\n",
       "        vertical-align: top;\n",
       "    }\n",
       "\n",
       "    .dataframe thead th {\n",
       "        text-align: right;\n",
       "    }\n",
       "</style>\n",
       "<table border=\"1\" class=\"dataframe\">\n",
       "  <thead>\n",
       "    <tr style=\"text-align: right;\">\n",
       "      <th></th>\n",
       "      <th>0</th>\n",
       "      <th>2</th>\n",
       "      <th>4</th>\n",
       "      <th>5</th>\n",
       "      <th>6</th>\n",
       "      <th>7</th>\n",
       "      <th>8</th>\n",
       "      <th>9</th>\n",
       "      <th>10</th>\n",
       "      <th>11</th>\n",
       "      <th>...</th>\n",
       "      <th>39</th>\n",
       "      <th>40</th>\n",
       "      <th>41</th>\n",
       "      <th>42</th>\n",
       "      <th>43</th>\n",
       "      <th>44</th>\n",
       "      <th>45</th>\n",
       "      <th>46</th>\n",
       "      <th>47</th>\n",
       "      <th>48</th>\n",
       "    </tr>\n",
       "  </thead>\n",
       "  <tbody>\n",
       "    <tr>\n",
       "      <th>0</th>\n",
       "      <td>172.20.0.1:1390</td>\n",
       "      <td>149.171.126.6:53</td>\n",
       "      <td>0.539563</td>\n",
       "      <td>-1.60983</td>\n",
       "      <td>-0.033249</td>\n",
       "      <td>-0.108637</td>\n",
       "      <td>-0.258887</td>\n",
       "      <td>-0.18786</td>\n",
       "      <td>-0.097889</td>\n",
       "      <td>-0.335726</td>\n",
       "      <td>...</td>\n",
       "      <td>-0.111842</td>\n",
       "      <td>-0.666038</td>\n",
       "      <td>0.208351</td>\n",
       "      <td>-0.843011</td>\n",
       "      <td>-0.398264</td>\n",
       "      <td>-0.366370</td>\n",
       "      <td>-0.281842</td>\n",
       "      <td>-0.537313</td>\n",
       "      <td>Normal</td>\n",
       "      <td>0</td>\n",
       "    </tr>\n",
       "    <tr>\n",
       "      <th>1</th>\n",
       "      <td>172.21.0.1:33661</td>\n",
       "      <td>149.171.126.9:1024</td>\n",
       "      <td>0.539563</td>\n",
       "      <td>-1.60983</td>\n",
       "      <td>-0.031896</td>\n",
       "      <td>-0.099817</td>\n",
       "      <td>-0.258135</td>\n",
       "      <td>-0.18786</td>\n",
       "      <td>-0.097889</td>\n",
       "      <td>-0.335726</td>\n",
       "      <td>...</td>\n",
       "      <td>-0.111842</td>\n",
       "      <td>-0.863076</td>\n",
       "      <td>-0.438814</td>\n",
       "      <td>-0.575663</td>\n",
       "      <td>-0.398264</td>\n",
       "      <td>-0.366370</td>\n",
       "      <td>-0.281842</td>\n",
       "      <td>-0.085069</td>\n",
       "      <td>Normal</td>\n",
       "      <td>0</td>\n",
       "    </tr>\n",
       "    <tr>\n",
       "      <th>2</th>\n",
       "      <td>172.26.0.1:1464</td>\n",
       "      <td>149.171.126.7:53</td>\n",
       "      <td>0.539563</td>\n",
       "      <td>-1.60983</td>\n",
       "      <td>-0.033246</td>\n",
       "      <td>-0.108325</td>\n",
       "      <td>-0.258812</td>\n",
       "      <td>-0.18786</td>\n",
       "      <td>-0.097889</td>\n",
       "      <td>-0.335726</td>\n",
       "      <td>...</td>\n",
       "      <td>-0.111842</td>\n",
       "      <td>1.107310</td>\n",
       "      <td>0.424072</td>\n",
       "      <td>-0.843011</td>\n",
       "      <td>-0.636946</td>\n",
       "      <td>0.168089</td>\n",
       "      <td>-0.281842</td>\n",
       "      <td>-0.537313</td>\n",
       "      <td>Normal</td>\n",
       "      <td>0</td>\n",
       "    </tr>\n",
       "    <tr>\n",
       "      <th>3</th>\n",
       "      <td>172.27.0.1:3593</td>\n",
       "      <td>149.171.126.5:53</td>\n",
       "      <td>0.539563</td>\n",
       "      <td>-1.60983</td>\n",
       "      <td>-0.033243</td>\n",
       "      <td>-0.108637</td>\n",
       "      <td>-0.258887</td>\n",
       "      <td>-0.18786</td>\n",
       "      <td>-0.097889</td>\n",
       "      <td>-0.335726</td>\n",
       "      <td>...</td>\n",
       "      <td>-0.111842</td>\n",
       "      <td>-0.074922</td>\n",
       "      <td>0.639793</td>\n",
       "      <td>-0.843011</td>\n",
       "      <td>-0.875629</td>\n",
       "      <td>-0.366370</td>\n",
       "      <td>-0.281842</td>\n",
       "      <td>-0.537313</td>\n",
       "      <td>Normal</td>\n",
       "      <td>0</td>\n",
       "    </tr>\n",
       "    <tr>\n",
       "      <th>4</th>\n",
       "      <td>172.29.0.1:49664</td>\n",
       "      <td>149.171.126.0:53</td>\n",
       "      <td>0.539563</td>\n",
       "      <td>-1.60983</td>\n",
       "      <td>-0.033245</td>\n",
       "      <td>-0.108325</td>\n",
       "      <td>-0.258812</td>\n",
       "      <td>-0.18786</td>\n",
       "      <td>-0.097889</td>\n",
       "      <td>-0.335726</td>\n",
       "      <td>...</td>\n",
       "      <td>-0.111842</td>\n",
       "      <td>0.122117</td>\n",
       "      <td>0.639793</td>\n",
       "      <td>-0.843011</td>\n",
       "      <td>-0.875629</td>\n",
       "      <td>-0.366370</td>\n",
       "      <td>-0.281842</td>\n",
       "      <td>-0.537313</td>\n",
       "      <td>Normal</td>\n",
       "      <td>0</td>\n",
       "    </tr>\n",
       "  </tbody>\n",
       "</table>\n",
       "<p>5 rows × 47 columns</p>\n",
       "</div>"
      ],
      "text/plain": [
       "                 0                   2         4        5         6   \\\n",
       "0   172.20.0.1:1390    149.171.126.6:53  0.539563 -1.60983 -0.033249   \n",
       "1  172.21.0.1:33661  149.171.126.9:1024  0.539563 -1.60983 -0.031896   \n",
       "2   172.26.0.1:1464    149.171.126.7:53  0.539563 -1.60983 -0.033246   \n",
       "3   172.27.0.1:3593    149.171.126.5:53  0.539563 -1.60983 -0.033243   \n",
       "4  172.29.0.1:49664    149.171.126.0:53  0.539563 -1.60983 -0.033245   \n",
       "\n",
       "         7         8        9         10        11  ...        39        40  \\\n",
       "0 -0.108637 -0.258887 -0.18786 -0.097889 -0.335726  ... -0.111842 -0.666038   \n",
       "1 -0.099817 -0.258135 -0.18786 -0.097889 -0.335726  ... -0.111842 -0.863076   \n",
       "2 -0.108325 -0.258812 -0.18786 -0.097889 -0.335726  ... -0.111842  1.107310   \n",
       "3 -0.108637 -0.258887 -0.18786 -0.097889 -0.335726  ... -0.111842 -0.074922   \n",
       "4 -0.108325 -0.258812 -0.18786 -0.097889 -0.335726  ... -0.111842  0.122117   \n",
       "\n",
       "         41        42        43        44        45        46      47  48  \n",
       "0  0.208351 -0.843011 -0.398264 -0.366370 -0.281842 -0.537313  Normal   0  \n",
       "1 -0.438814 -0.575663 -0.398264 -0.366370 -0.281842 -0.085069  Normal   0  \n",
       "2  0.424072 -0.843011 -0.636946  0.168089 -0.281842 -0.537313  Normal   0  \n",
       "3  0.639793 -0.843011 -0.875629 -0.366370 -0.281842 -0.537313  Normal   0  \n",
       "4  0.639793 -0.843011 -0.875629 -0.366370 -0.281842 -0.537313  Normal   0  \n",
       "\n",
       "[5 rows x 47 columns]"
      ]
     },
     "execution_count": 3,
     "metadata": {},
     "output_type": "execute_result"
    }
   ],
   "source": [
    "unsw_.iloc[:,2:-2] = unsw_.iloc[:,2:-2].apply(lambda x: (x-x.mean())/ x.std(), axis=0)\n",
    "unsw_.head()"
   ]
  },
  {
   "cell_type": "code",
   "execution_count": 5,
   "metadata": {},
   "outputs": [],
   "source": [
    "import numpy as np\n",
    "edge_feat_scaled = unsw_.iloc[:,2:-2].to_numpy()\n",
    "np.save(\"edge_feat_scaled.npy\",edge_feat_scaled)"
   ]
  },
  {
   "cell_type": "code",
   "execution_count": 7,
   "metadata": {},
   "outputs": [
    {
     "data": {
      "text/plain": [
       "array(['Normal', 'Exploits', 'Reconnaissance', 'DoS', 'Generic',\n",
       "       'Shellcode', ' Fuzzers', 'Worms', 'Backdoors', 'Analysis'],\n",
       "      dtype=object)"
      ]
     },
     "execution_count": 7,
     "metadata": {},
     "output_type": "execute_result"
    }
   ],
   "source": [
    "unsw_[47].unique()"
   ]
  },
  {
   "cell_type": "code",
   "execution_count": 1,
   "metadata": {},
   "outputs": [
    {
     "data": {
      "text/plain": [
       "0.9682643310509557"
      ]
     },
     "execution_count": 1,
     "metadata": {},
     "output_type": "execute_result"
    }
   ],
   "source": [
    "import numpy as np\n",
    "from sklearn.metrics import f1_score\n",
    "lb = np.load('label_bi.npy')\n",
    "zeros = np.zeros((lb.shape))\n",
    "f1_score(lb, zeros, average='micro')"
   ]
  },
  {
   "cell_type": "code",
   "execution_count": 2,
   "metadata": {},
   "outputs": [
    {
     "data": {
      "text/plain": [
       "0.9526523444998437"
      ]
     },
     "execution_count": 2,
     "metadata": {},
     "output_type": "execute_result"
    }
   ],
   "source": [
    "f1_score(lb, zeros, average='weighted')"
   ]
  },
  {
   "cell_type": "code",
   "execution_count": 3,
   "metadata": {},
   "outputs": [
    {
     "data": {
      "text/plain": [
       "0.03173566894904436"
      ]
     },
     "execution_count": 3,
     "metadata": {},
     "output_type": "execute_result"
    }
   ],
   "source": [
    "lb.sum()/len(lb)"
   ]
  },
  {
   "cell_type": "code",
   "execution_count": 1,
   "metadata": {},
   "outputs": [
    {
     "data": {
      "text/plain": [
       "False"
      ]
     },
     "execution_count": 1,
     "metadata": {},
     "output_type": "execute_result"
    }
   ],
   "source": [
    "import numpy as np\n",
    "edge_feat = np.load(\"edge_feat_scaled.npy\")\n",
    "True in np.isnan(edge_feat)"
   ]
  },
  {
   "cell_type": "code",
   "execution_count": 1,
   "metadata": {},
   "outputs": [
    {
     "data": {
      "text/plain": [
       "677786"
      ]
     },
     "execution_count": 1,
     "metadata": {},
     "output_type": "execute_result"
    }
   ],
   "source": [
    "import numpy as np\n",
    "lb = np.load('label_bi.npy')\n",
    "(lb==0).sum()"
   ]
  },
  {
   "cell_type": "code",
   "execution_count": 5,
   "metadata": {},
   "outputs": [
    {
     "data": {
      "text/plain": [
       "526"
      ]
     },
     "execution_count": 5,
     "metadata": {},
     "output_type": "execute_result"
    }
   ],
   "source": [
    "lb = np.load('label_mul.npy')\n",
    "(lb==9).sum()"
   ]
  },
  {
   "cell_type": "markdown",
   "metadata": {},
   "source": [
    "## adj_random"
   ]
  },
  {
   "cell_type": "code",
   "execution_count": 1,
   "metadata": {},
   "outputs": [],
   "source": [
    "import numpy as np\n",
    "edge_feat = np.load(\"edge_feat_scaled.npy\")\n",
    "srcip_list = list(range(170000))\n",
    "dstip_list = list(range(170001,340000))\n",
    "src = np.random.choice(srcip_list, edge_feat.shape[0])\n",
    "dst = np.random.choice(dstip_list, edge_feat.shape[0])\n",
    "adj_random = np.column_stack((src,dst))\n",
    "np.save(\"adj_random.npy\", adj_random)\n",
    "np.save(\"node_random.npy\", np.array(list(range(300000))))"
   ]
  },
  {
   "cell_type": "code",
   "execution_count": 2,
   "metadata": {},
   "outputs": [],
   "source": [
    "import pickle\n",
    "from collections import defaultdict\n",
    "adj = np.load(\"adj_random.npy\", allow_pickle=True)\n",
    "adj_lists = defaultdict(set)  # not return keyerror when not found\n",
    "for i, line in enumerate(adj):\n",
    "    node1 = line[0]\n",
    "    node2 = line[1]\n",
    "    adj_lists[node1].add(i)  # mutual neighbor\n",
    "    adj_lists[node2].add(i)\n",
    "with open('adj_random_list.dict', 'wb') as file:\n",
    "    pickle.dump(adj_lists, file, protocol=pickle.HIGHEST_PROTOCOL)"
   ]
  },
  {
   "cell_type": "code",
   "execution_count": 3,
   "metadata": {},
   "outputs": [
    {
     "data": {
      "text/plain": [
       "0.9682643310509557"
      ]
     },
     "execution_count": 3,
     "metadata": {},
     "output_type": "execute_result"
    }
   ],
   "source": [
    "import numpy as np\n",
    "lb = np.load('label_mul.npy')\n",
    "(lb==0).sum() / len(lb)"
   ]
  },
  {
   "cell_type": "markdown",
   "metadata": {},
   "source": [
    "## Undersampling"
   ]
  },
  {
   "cell_type": "code",
   "execution_count": 5,
   "metadata": {},
   "outputs": [],
   "source": [
    "from imblearn.under_sampling import RandomUnderSampler\n",
    "from collections import Counter\n",
    "from sklearn.model_selection import train_test_split\n",
    "import numpy as np\n",
    "from collections import Counter"
   ]
  },
  {
   "cell_type": "code",
   "execution_count": 10,
   "metadata": {},
   "outputs": [
    {
     "name": "stdout",
     "output_type": "stream",
     "text": [
      "Before undersampling: Counter({0: 469609, 1: 15392})\n",
      "After undersampling: Counter({0: 15392, 1: 15392})\n"
     ]
    }
   ],
   "source": [
    "edge_feat = np.load(\"edge_feat_scaled.npy\")\n",
    "label_bi = np.load(\"label_bi.npy\")\n",
    "label_mul = np.load('label_mul.npy')\n",
    "\n",
    "num_edges = len(edge_feat)\n",
    "train_val, test = train_test_split(np.arange(num_edges), test_size=210000, stratify=label_bi)\n",
    "train_before, val = train_test_split(train_val, test_size=5000, stratify=label_bi[train_val])\n",
    "\n",
    "print(\"Before undersampling: {}\".format(Counter(label_bi[train_before])))\n",
    "rus = RandomUnderSampler(random_state=42, sampling_strategy='auto')\n",
    "train, y_rus = rus.fit_resample(train_before.reshape(-1, 1), label_bi[train_before])\n",
    "print(\"After undersampling: {}\".format(Counter(y_rus)))\n",
    "train = train.reshape(-1,)"
   ]
  },
  {
   "cell_type": "code",
   "execution_count": 11,
   "metadata": {},
   "outputs": [
    {
     "data": {
      "text/plain": [
       "(245784, 43)"
      ]
     },
     "execution_count": 11,
     "metadata": {},
     "output_type": "execute_result"
    }
   ],
   "source": [
    "edge_rus = np.concatenate((edge_feat[test], edge_feat[val], edge_feat[train]),axis=0)\n",
    "edge_rus.shape"
   ]
  },
  {
   "cell_type": "code",
   "execution_count": 12,
   "metadata": {},
   "outputs": [],
   "source": [
    "np.save('edge_feat_rus.npy', edge_rus)\n",
    "\n",
    "label_bi_rus = np.concatenate((label_bi[test], label_bi[val], label_bi[train]),axis=0)\n",
    "label_mul_rus = np.concatenate((label_mul[test], label_mul[val], label_mul[train]),axis=0)\n",
    "np.save('label_bi_rus.npy', label_bi_rus)\n",
    "np.save('label_mul_rus.npy', label_mul_rus)"
   ]
  },
  {
   "cell_type": "code",
   "execution_count": 13,
   "metadata": {},
   "outputs": [],
   "source": [
    "srcip_list = list(range(60000))\n",
    "dstip_list = list(range(60001,120000))\n",
    "src = np.random.choice(srcip_list, edge_rus.shape[0])\n",
    "dst = np.random.choice(dstip_list, edge_rus.shape[0])\n",
    "adj_rus = np.column_stack((src,dst))\n",
    "np.save('adj_rus.npy', adj_rus)\n",
    "\n",
    "import pickle\n",
    "from collections import defaultdict\n",
    "adj = np.load(\"adj_rus.npy\", allow_pickle=True)\n",
    "adj_lists = defaultdict(set)  # not return keyerror when not found\n",
    "for i, line in enumerate(adj):\n",
    "    node1 = line[0]\n",
    "    node2 = line[1]\n",
    "    adj_lists[node1].add(i)  # mutual neighbor\n",
    "    adj_lists[node2].add(i)\n",
    "with open('adj_rus_list.dict', 'wb') as file:\n",
    "    pickle.dump(adj_lists, file, protocol=pickle.HIGHEST_PROTOCOL)"
   ]
  }
 ],
 "metadata": {
  "kernelspec": {
   "display_name": "Python 3",
   "language": "python",
   "name": "python3"
  },
  "language_info": {
   "codemirror_mode": {
    "name": "ipython",
    "version": 3
   },
   "file_extension": ".py",
   "mimetype": "text/x-python",
   "name": "python",
   "nbconvert_exporter": "python",
   "pygments_lexer": "ipython3",
   "version": "3.7.6"
  }
 },
 "nbformat": 4,
 "nbformat_minor": 4
}
